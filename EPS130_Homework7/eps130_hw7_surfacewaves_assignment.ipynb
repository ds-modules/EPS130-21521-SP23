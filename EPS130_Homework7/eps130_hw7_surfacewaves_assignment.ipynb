{
 "cells": [
  {
   "cell_type": "markdown",
   "metadata": {},
   "source": [
    "# Surface Wave Analysis\n",
    "\n",
    "### Introduction\n",
    "\n",
    "All surface waves, except Rayleigh waves in an isotropic half-space, exhibit dispersion, meaning waves traveling with different frequencies propagate with different speeds. As we have discussed previously seismic waves of a particular frequency travel with a phase velocity c(T). But, seismic sources radiate a spectrum of frequencies, which due to dispersion, interfere constuctively and destructively as they propagate. This gives rise to the concept of a \"group velocity\" U(T) which describes how a particular wave packet propagates. Please refer to Lay and Wallace Chapter 4.4 for more detail.\n",
    "\n",
    "The dispersion of Love waves with period $T$ traveling with phase velocity $c(T)$, for layer 1 (crust) over half-space 2 (mantle), with repspective S-wave velocities $\\beta_1$, $\\beta_2$ and rigidity moduli $\\mu_1, \\mu_2$, is given by:\n",
    "\n",
    "(eqn 1)\n",
    "$$\n",
    "\\tan ( \\frac{2 \\pi}{T}H \\sqrt{\\frac{1}{\\beta_1^2} - \\frac{1}{c^2}} ) = \\frac{\\mu_2}{\\mu_1}\\frac{\\sqrt{\\frac{1}{c^2} - \\frac{1}{\\beta_2^2}}}{\\sqrt{\\frac{1}{\\beta_1^2} - \\frac{1}{c^2}}}; \\beta_1 \\leq c \\leq \\beta_2\n",
    "$$\n",
    "\n",
    "As discussed in lecture this equation comes from solving the boundary value problem for a layer over-a-halfspace model. Given the two shear wave velocities and the layer thickness of the model it is possible to then find for each frequency a value of c that satisfies this relationship. Figure 4.9 from the Lay and Wallace textbook, shown here,  illustrates intersection of the powerlaw function with the periodic tan() function. Note that tan() is for a specific frequency. The first tan() represents the fundamental mode, which is what we will focus on and the other curves represent the higher modes.\n",
    "\n",
    "<img src='laywallacefig.png'>\n",
    "\n",
    "The model group velocity dispersion relationship is then found by the following equation:\n",
    "\n",
    "(eqn 2)\n",
    "$$\n",
    "U(T) = \\frac{c(T)}{1+\\frac{T}{c(T)}\\frac{dc(T)}{dT}}\n",
    "$$\n",
    "\n",
    ", where group velocity depends on both c(T) and the rate of change of phase velocity (c) with period.\n",
    "\n",
    "### Objective \n",
    "In this exercise, we will investigate the dispersive properties of seismic waves traveling near a free surface.\n",
    "\n",
    "### Instructions on how to complete this notebook\n",
    "Use the code provided in this Jupyter Notebook to analyze the data making group velocity measurements, calculate model phase and group velocity, and compare with the observations. Answer the questions posed in each section. Save the completed work book as a pdf file, and submit to the assignment on bcourses. Write your answers as embedded Markdown Cells, Clearly Labeled, inside the notebook, and save the completed notebook as a pdf document to upload to bcourses\n"
   ]
  },
  {
   "cell_type": "code",
   "execution_count": null,
   "metadata": {},
   "outputs": [],
   "source": [
    "#Initial Setup and Subroutine Definitions\n",
    "import pandas as pd\n",
    "import numpy as np\n",
    "import matplotlib\n",
    "import matplotlib.pyplot as plt"
   ]
  },
  {
   "cell_type": "code",
   "execution_count": null,
   "metadata": {},
   "outputs": [],
   "source": [
    "#Input Parameters for Phase Velocity calculation\n",
    "#You will adjust these as you complete the assignment\n",
    "beta1=3500 #m/s  \n",
    "rho1=2670  #kg/m^3\n",
    "beta2=4500\n",
    "rho2=2800\n",
    "\n",
    "#Fixed parameters - DO NOT Edit Below this Line\n",
    "delta = 6797  #Distance of the EQ from the Berkeley Station in km.\n",
    "\n",
    "#Calculated parameters\n",
    "mu1=rho1*beta1**2\n",
    "mu2=rho2*beta2**2\n",
    "mu2_over_mu1 = mu2/mu1\n",
    "beta1=beta1/1000. # km/s\n",
    "beta2=beta2/1000.\n"
   ]
  },
  {
   "cell_type": "markdown",
   "metadata": {},
   "source": [
    "### Exercise\n",
    "On February 13, 2015 a Mw 7.1 earthquake occurred on the Mid Atlantic Ridge. Surface waves from this event traversed the North American plate in which the\n",
    "majority of the path was continental. The distance traveled was 6,797 km. The\n",
    "source mechanism of the earthquake was such that it generated strong Love waves. Figure 2 shows the Love wave packet observed at the Berkeley Strawberry Canyon station (BKS). There is a pdf version of this plot that you can download and print to make your group time measurements.\n",
    "\n",
    "<img src='midatridge_t.png'>\n",
    "\n",
    "####  Figure 2 showing the Love waveform for the Mw7.1 Mid-Atlantic Ridge earthquake\n",
    "\n",
    "Using the method of instantaneous periods you will estimate the group velocity,\n",
    "U(T), dispersion curve for the event. Peaks and troughs are labeled in Figure 1, with zero crossing labeled in quarter steps (e.g. 0.25, 0.75, etc). The time scale is already given in terms of seconds from the earthquake origin time so you simply need to use a ruler to measure the time to the respective quarter step index numbers.\n"
   ]
  },
  {
   "cell_type": "markdown",
   "metadata": {},
   "source": [
    "### Question 1 (25 pts)\n",
    "Tabulate instantaneous period measurements (times to the index numbers, 0.25, 0.5, 0.75, 1.0, etc) for the seismogram given in Figure 2. There is a pdf version of this figure that you can download and print out to make the time measurements. Note that the time access is already given in terms of seconds since the origin time. I give you the first measurement for i=0.25.\n",
    "\n",
    "When adding your measurements to the data frame (d) below be careful to ensure you have the same number of time measurements as the quarter step index number, i."
   ]
  },
  {
   "cell_type": "code",
   "execution_count": null,
   "metadata": {},
   "outputs": [],
   "source": [
    "#Instantaneous period time measurements\n",
    "\n",
    "#the following structure defines a dataframe for the quarter-step index number \"i\", \n",
    "#the measured times $t_i$, and the estimated instantaneous period $T_i$\n",
    "\n",
    "#For each quarter step measure the arrival time\n",
    "\n",
    "d = {'$i$': [0.25, 0.5 , 0.75, 1.  , 1.25, 1.5 , 1.75, 2.  , 2.25, 2.5 , 2.75,\n",
    "       3.  , 3.25, 3.5 , 3.75, 4.  , 4.25, 4.5 , 4.75, 5.  , 5.25, 5.5 ,\n",
    "       5.75, 6.  , 6.25, 6.5],\n",
    "     '$t_i$ [s]': [1548.2,...,...]}\n",
    "df = pd.DataFrame(data=d)\n"
   ]
  },
  {
   "cell_type": "markdown",
   "metadata": {},
   "source": [
    "### Question 2 (25 pts)\n",
    "Surface wave arrival at time $t_i$ has instantaneous group velocity $U_i = \\frac{\\Delta}{t_i}$ and period, where \n",
    "\n",
    "$$T_i = \\frac{t_{i+1} - t_i}{(i+1)-i}$$\n",
    "\n",
    "This plot shows what your data should look like.\n",
    "\n",
    "<img src='dataexample.jpg'>\n",
    "\n",
    "Q2.1 In the following cell compute the period (T) and the group velocity (U) append the pandas DataFrame. \n",
    "\n",
    "Q2.2 Discuss the U(T) values obtained in terms of the velocity profile of the Earth. There is information in Lay and Wallace and the lecture notes on crustal and upper mantle S-wave velocity.\n",
    "\n"
   ]
  },
  {
   "cell_type": "code",
   "execution_count": null,
   "metadata": {},
   "outputs": [],
   "source": [
    "#Calculate period\n",
    "a=np.diff(df['$t_i$ [s]'])/np.diff(df['$i$'])\n",
    "#since we lose one element in the array due to differentiation we add the last value\n",
    "T=np.append(a,a[len(a)-1])\n",
    "\n",
    "#Calculate group velocity - Note that \"delta=6797 km\" defined above is the distance parameter to use for this calculation\n",
    "U=delta/df['$t_i$ [s]']\n",
    "\n",
    "#This code includes the period and group velocity estimates in the DataFrame for later use.\n",
    "df['$T_i$ [s]'] = T\n",
    "df['$U_i$ [km/s]'] = U\n",
    "\n",
    "#Uncomment to see updated data frame table\n",
    "df"
   ]
  },
  {
   "cell_type": "code",
   "execution_count": null,
   "metadata": {},
   "outputs": [],
   "source": [
    "#Plot The observations and a best fit polygon using the np.polyfit() and np.poly1d() functions\n",
    "\n",
    "import numpy.polynomial.polynomial as poly\n",
    "x =... #period values\n",
    "y =... #group velocity values\n",
    "z = np.poly1d(np.polyfit(...))\n",
    "\n",
    "#plot code here\n",
    "\n",
    "#plt.savefig('dataexample.jpg')"
   ]
  },
  {
   "cell_type": "markdown",
   "metadata": {},
   "source": [
    "#### Q2 Answer Here\n"
   ]
  },
  {
   "cell_type": "markdown",
   "metadata": {},
   "source": [
    "### Question 3 - Calculate Phase Velocity Curves and Estimate Group Velocity Dispersion Curves (25 pts)\n",
    "\n",
    "The phase velocity curves are computed by solving equation 1. The following cell does this for you where the phase velocity is estimated for an array of period (T) and layer thickness (H) for the given shear wave velocities.  Study the code to understand how the calculation is being done.\n",
    "\n",
    "\n",
    "Given the calculated phase velocity estimate the model group velocity curves (U(H,T)) using equation 2. The figure below shows what the group velocity curves should look like.\n",
    "<img src='groupvelocityexample.jpg'>\n",
    "\n",
    "\n",
    "Q3.1 Plot the calculated group velocity curves and compare with the observations (result from questions 1 & 2).\n",
    "\n",
    "Q3.2 Discuss the overall characteristics of the group velocity curves and how they change with crustal thickness. Explain the reason for the the different group velocities at a period of say 30 seconds for the different models.\n",
    "\n",
    "Q3.3 Based on the starting model provided what is the best crustal thickness?\n",
    "\n",
    "Q3.4 What are some complications along the path that can lead to differences between the observed and predicted dispersion relationships, which assume a simple single layer Earth model?\n",
    "\n",
    "Provide your answers in the labeled (Q3 Answers) markdown cell below"
   ]
  },
  {
   "cell_type": "code",
   "execution_count": null,
   "metadata": {
    "scrolled": true
   },
   "outputs": [],
   "source": [
    "#Calculate Phase Velocity Curves - This is done for you but you may want to adjust the thickness array.\n",
    "T = np.arange(2,120,2)\n",
    "H = np.array([5.,10., 20., 30., 40., 50.])\n",
    "\n",
    "C = np.zeros([np.size(H),np.size(T)])\n",
    "\n",
    "ceps=beta1*1.e-7\n",
    "c = np.arange(beta1+ceps,beta2-ceps,ceps)\n",
    "c = c.astype(float)\n",
    "\n",
    "for i,Hi in enumerate(H):\n",
    "    for j,Tj in enumerate(T):\n",
    "        test = np.tan((2*np.pi*Hi/Tj)*np.sqrt(1/beta1**2-1/c**2)) - mu2_over_mu1 * (np.sqrt((1/c**2) - (1/beta2**2)) / np.sqrt(1/beta1**2 - 1/c**2))\n",
    "        idx = np.min(np.where(np.diff(np.sign(test)) != 0)[0] - 1)\n",
    "        C[i,j]=c[idx]\n",
    "    print('H = %d' % Hi)\n",
    "print('Done')\n",
    "\n",
    "for i,ci in enumerate(C):\n",
    "    plt.plot(T[i:],ci[i:],'-',label=H[i])\n",
    "\n",
    "print(f'\\n\\nPhase Velocity Dispersion Curves for beta1={beta1:.2f} beta2={beta2:0.2f}\\n')\n",
    "plt.xlabel('Period [s]')\n",
    "plt.ylabel('Phase Velocity [km/s]')\n",
    "# plt.grid()\n",
    "plt.legend(title = 'Depth [km]',loc='lower right')\n",
    "plt.show()"
   ]
  },
  {
   "cell_type": "code",
   "execution_count": null,
   "metadata": {},
   "outputs": [],
   "source": [
    "# Compute the group velocity U by using equation 2. One way to do this is to write a loop\n",
    "# over layer thickness and then period. \n",
    "\n"
   ]
  },
  {
   "cell_type": "code",
   "execution_count": null,
   "metadata": {},
   "outputs": [],
   "source": [
    "#Write code to plot group velocity and compare with the data\n",
    "\n",
    "\n"
   ]
  },
  {
   "cell_type": "markdown",
   "metadata": {},
   "source": [
    "#### Q3 Answers here."
   ]
  },
  {
   "cell_type": "markdown",
   "metadata": {},
   "source": [
    "### Question 4 (25 pts)\n",
    "It is possible to obtain a better fit to the data by changing the beta1 and beta2 parameters of the model. Change only one parameter at a time.\n",
    "\n",
    "1. Keeping beta1 fixed at 3500 m/s change beta2 slightly to see the effect on the group velocity dispersion curves and the fit to the data. Discuss the results.\n",
    "\n",
    "2. Keeping beta2 fixed at 4500 m/s (original value for the average moho) alter the beta1 parameter to improve the fit to the group velocity data. What do you find in terms of the average crustal velocity along the path and the thickness of the crust. Is this result more inline or not with your expectation for the path from the mid Atlantic Ridge to Berkeley?\n",
    "\n",
    "####  Q4 Answer:\n"
   ]
  },
  {
   "cell_type": "markdown",
   "metadata": {},
   "source": [
    "#### Examining effect of chaning Moho velocity"
   ]
  },
  {
   "cell_type": "code",
   "execution_count": null,
   "metadata": {},
   "outputs": [],
   "source": []
  },
  {
   "cell_type": "markdown",
   "metadata": {},
   "source": [
    "#### Examining the effect of crustal velocity"
   ]
  },
  {
   "cell_type": "code",
   "execution_count": null,
   "metadata": {},
   "outputs": [],
   "source": []
  },
  {
   "cell_type": "code",
   "execution_count": null,
   "metadata": {},
   "outputs": [],
   "source": []
  }
 ],
 "metadata": {
  "anaconda-cloud": {},
  "kernelspec": {
   "display_name": "Python 3 (ipykernel)",
   "language": "python",
   "name": "python3"
  },
  "language_info": {
   "codemirror_mode": {
    "name": "ipython",
    "version": 3
   },
   "file_extension": ".py",
   "mimetype": "text/x-python",
   "name": "python",
   "nbconvert_exporter": "python",
   "pygments_lexer": "ipython3",
   "version": "3.9.7"
  }
 },
 "nbformat": 4,
 "nbformat_minor": 2
}
