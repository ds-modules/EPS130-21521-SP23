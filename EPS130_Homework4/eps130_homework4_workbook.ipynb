{
 "cells": [
  {
   "cell_type": "markdown",
   "id": "6bbccdf9",
   "metadata": {},
   "source": [
    "Use this notebook for any calculations and plots. For the plots of the spectral instrument response you should consider the frequency domain equations and make the plot in a log(amplitude) log(frequency) space.\n",
    "\n",
    "Save this notebook as a pdf and upload to bcourses for credit"
   ]
  },
  {
   "cell_type": "code",
   "execution_count": null,
   "id": "3a1e72da",
   "metadata": {},
   "outputs": [],
   "source": []
  }
 ],
 "metadata": {
  "kernelspec": {
   "display_name": "Python 3 (ipykernel)",
   "language": "python",
   "name": "python3"
  },
  "language_info": {
   "codemirror_mode": {
    "name": "ipython",
    "version": 3
   },
   "file_extension": ".py",
   "mimetype": "text/x-python",
   "name": "python",
   "nbconvert_exporter": "python",
   "pygments_lexer": "ipython3",
   "version": "3.9.7"
  }
 },
 "nbformat": 4,
 "nbformat_minor": 5
}
